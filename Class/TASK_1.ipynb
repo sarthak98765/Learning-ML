{
 "cells": [
  {
   "cell_type": "markdown",
   "id": "c37febb6",
   "metadata": {},
   "source": [
    "# 1) searching an element in an array"
   ]
  },
  {
   "cell_type": "code",
   "execution_count": 2,
   "id": "fdc6b49d",
   "metadata": {},
   "outputs": [
    {
     "name": "stdout",
     "output_type": "stream",
     "text": [
      "(array([3, 5, 6], dtype=int64),)\n"
     ]
    }
   ],
   "source": [
    "import numpy as np\n",
    "\n",
    "arr = np.array([1, 2, 3, 4, 5, 4, 4])\n",
    "\n",
    "x = np.where(arr == 4)\n",
    "\n",
    "print(x)\n",
    "#it means 4 is present at 3,5,6 position of array"
   ]
  },
  {
   "cell_type": "markdown",
   "id": "b6724bcb",
   "metadata": {},
   "source": [
    "# 2) finding largest element in an array"
   ]
  },
  {
   "cell_type": "code",
   "execution_count": 3,
   "id": "4cddc22d",
   "metadata": {},
   "outputs": [
    {
     "name": "stdout",
     "output_type": "stream",
     "text": [
      "Largest in given array  66\n"
     ]
    }
   ],
   "source": [
    "def largest(arr,n):\n",
    "    max = arr[0]\n",
    "    for i in range(1, n):\n",
    "        if arr[i] > max:\n",
    "            max = arr[i]\n",
    "    return max\n",
    "arr = [2,45,66]\n",
    "n = len(arr)\n",
    "Ans = largest(arr, n)\n",
    "print(\"Largest in given array \", Ans)"
   ]
  },
  {
   "cell_type": "markdown",
   "id": "bd79c82c",
   "metadata": {},
   "source": [
    "# 3)finding smallest element in an array"
   ]
  },
  {
   "cell_type": "code",
   "execution_count": 4,
   "id": "5ebeb54a",
   "metadata": {},
   "outputs": [
    {
     "name": "stdout",
     "output_type": "stream",
     "text": [
      "smallest in given array is   12\n"
     ]
    }
   ],
   "source": [
    "def smallest(arr,n):\n",
    "    min = arr[0]\n",
    "    for i in range (1,n):\n",
    "        if arr[i] < min:\n",
    "            min = arr[i]\n",
    "    return min\n",
    "\n",
    "arr=[34,23,45,55,78,12,89]\n",
    "n = len(arr)\n",
    "ans = smallest(arr,n)\n",
    "print(\"smallest in given array is  \",ans)"
   ]
  },
  {
   "cell_type": "markdown",
   "id": "cb0843bc",
   "metadata": {},
   "source": [
    "# 4)reversing an array"
   ]
  },
  {
   "cell_type": "code",
   "execution_count": 7,
   "id": "bdd4bc7e",
   "metadata": {},
   "outputs": [
    {
     "name": "stdout",
     "output_type": "stream",
     "text": [
      "reverse aray is : [6 5 4 3 2 1]\n"
     ]
    }
   ],
   "source": [
    "arr=np.array([1,2,3,4,5,6])\n",
    "rev=np.flip(arr)\n",
    "print(\"reverse aray is :\",rev)\n",
    "#flip reverse this"
   ]
  },
  {
   "cell_type": "markdown",
   "id": "56079a07",
   "metadata": {},
   "source": [
    "# 5)rotating an array from kth position"
   ]
  },
  {
   "cell_type": "code",
   "execution_count": 8,
   "id": "09104e68",
   "metadata": {},
   "outputs": [
    {
     "name": "stdout",
     "output_type": "stream",
     "text": [
      "Rotated list is\n",
      "[3, 4, 5, 6, 1, 2]\n"
     ]
    }
   ],
   "source": [
    "def rotateArray(a,d):\n",
    "    n=len(a)\n",
    "    a[:]=a[d:n]+a[0:d]\n",
    "    return a\n",
    "\n",
    "arr = [1, 2, 3, 4, 5, 6]\n",
    "\n",
    "print(\"Rotated list is\")\n",
    "print(rotateArray(arr,2))"
   ]
  },
  {
   "cell_type": "code",
   "execution_count": null,
   "id": "93ef0dc7",
   "metadata": {},
   "outputs": [],
   "source": []
  }
 ],
 "metadata": {
  "kernelspec": {
   "display_name": "Python 3 (ipykernel)",
   "language": "python",
   "name": "python3"
  },
  "language_info": {
   "codemirror_mode": {
    "name": "ipython",
    "version": 3
   },
   "file_extension": ".py",
   "mimetype": "text/x-python",
   "name": "python",
   "nbconvert_exporter": "python",
   "pygments_lexer": "ipython3",
   "version": "3.9.13"
  }
 },
 "nbformat": 4,
 "nbformat_minor": 5
}
