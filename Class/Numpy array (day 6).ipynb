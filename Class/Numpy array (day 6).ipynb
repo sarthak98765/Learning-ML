{
 "cells": [
  {
   "cell_type": "code",
   "execution_count": 1,
   "id": "fdf344b2",
   "metadata": {},
   "outputs": [],
   "source": [
    "#arrays in python\n",
    "#numpy arrays\n",
    "import numpy as np"
   ]
  },
  {
   "cell_type": "code",
   "execution_count": 4,
   "id": "17221f08",
   "metadata": {},
   "outputs": [],
   "source": [
    "#creating an array\n",
    "\n",
    "arr=np.array([1,2,3,4,5])\n",
    "\n",
    "#list passed"
   ]
  },
  {
   "cell_type": "code",
   "execution_count": 7,
   "id": "f52d7e55",
   "metadata": {},
   "outputs": [
    {
     "data": {
      "text/plain": [
       "array([1, 2, 3, 4, 5])"
      ]
     },
     "execution_count": 7,
     "metadata": {},
     "output_type": "execute_result"
    }
   ],
   "source": [
    "arr\n"
   ]
  },
  {
   "cell_type": "code",
   "execution_count": 8,
   "id": "935362a4",
   "metadata": {},
   "outputs": [],
   "source": [
    "#datatype of an array\n"
   ]
  },
  {
   "cell_type": "code",
   "execution_count": 17,
   "id": "4751afe3",
   "metadata": {},
   "outputs": [],
   "source": [
    "arr=np.array([1,2,3,4],dtype=float)"
   ]
  },
  {
   "cell_type": "code",
   "execution_count": 18,
   "id": "e1649065",
   "metadata": {},
   "outputs": [
    {
     "data": {
      "text/plain": [
       "array([1., 2., 3., 4.])"
      ]
     },
     "execution_count": 18,
     "metadata": {},
     "output_type": "execute_result"
    }
   ],
   "source": [
    "arr"
   ]
  },
  {
   "cell_type": "code",
   "execution_count": 11,
   "id": "81123642",
   "metadata": {},
   "outputs": [],
   "source": [
    "arr=np.array([1,2,3,4,5,'hi'])"
   ]
  },
  {
   "cell_type": "code",
   "execution_count": 12,
   "id": "ca15ba55",
   "metadata": {},
   "outputs": [
    {
     "data": {
      "text/plain": [
       "array(['1', '2', '3', '4', '5', 'hi'], dtype='<U11')"
      ]
     },
     "execution_count": 12,
     "metadata": {},
     "output_type": "execute_result"
    }
   ],
   "source": [
    "arr"
   ]
  },
  {
   "cell_type": "code",
   "execution_count": 19,
   "id": "be878362",
   "metadata": {},
   "outputs": [
    {
     "ename": "TypeError",
     "evalue": "data type 'string' not understood",
     "output_type": "error",
     "traceback": [
      "\u001b[1;31m---------------------------------------------------------------------------\u001b[0m",
      "\u001b[1;31mTypeError\u001b[0m                                 Traceback (most recent call last)",
      "\u001b[1;32m~\\AppData\\Local\\Temp\\ipykernel_2840\\3801773647.py\u001b[0m in \u001b[0;36m<module>\u001b[1;34m\u001b[0m\n\u001b[1;32m----> 1\u001b[1;33m \u001b[0marr\u001b[0m\u001b[1;33m=\u001b[0m\u001b[0mnp\u001b[0m\u001b[1;33m.\u001b[0m\u001b[0marray\u001b[0m\u001b[1;33m(\u001b[0m\u001b[1;33m[\u001b[0m\u001b[1;36m1\u001b[0m\u001b[1;33m,\u001b[0m\u001b[1;36m2\u001b[0m\u001b[1;33m,\u001b[0m\u001b[1;36m3\u001b[0m\u001b[1;33m,\u001b[0m\u001b[1;36m4\u001b[0m\u001b[1;33m]\u001b[0m\u001b[1;33m,\u001b[0m\u001b[0mdtype\u001b[0m\u001b[1;33m=\u001b[0m\u001b[1;34m'string'\u001b[0m\u001b[1;33m)\u001b[0m\u001b[1;33m\u001b[0m\u001b[1;33m\u001b[0m\u001b[0m\n\u001b[0m",
      "\u001b[1;31mTypeError\u001b[0m: data type 'string' not understood"
     ]
    }
   ],
   "source": [
    "arr=np.array([1,2,3,4],dtype='string')"
   ]
  },
  {
   "cell_type": "code",
   "execution_count": 20,
   "id": "49cc51e5",
   "metadata": {},
   "outputs": [
    {
     "data": {
      "text/plain": [
       "array([1., 2., 3., 4.])"
      ]
     },
     "execution_count": 20,
     "metadata": {},
     "output_type": "execute_result"
    }
   ],
   "source": [
    "arr"
   ]
  },
  {
   "cell_type": "raw",
   "id": "8daf6d29",
   "metadata": {},
   "source": []
  },
  {
   "cell_type": "code",
   "execution_count": 21,
   "id": "8d866552",
   "metadata": {},
   "outputs": [],
   "source": [
    "arr=np.arange(10,40,2)"
   ]
  },
  {
   "cell_type": "code",
   "execution_count": 22,
   "id": "854fe6ae",
   "metadata": {},
   "outputs": [
    {
     "data": {
      "text/plain": [
       "array([10, 12, 14, 16, 18, 20, 22, 24, 26, 28, 30, 32, 34, 36, 38])"
      ]
     },
     "execution_count": 22,
     "metadata": {},
     "output_type": "execute_result"
    }
   ],
   "source": [
    "arr"
   ]
  },
  {
   "cell_type": "code",
   "execution_count": 23,
   "id": "59aaa6fc",
   "metadata": {},
   "outputs": [
    {
     "data": {
      "text/plain": [
       "array([10, 12, 14, 16, 18, 40, 20, 22, 24, 26, 28, 30, 32, 34, 36, 38])"
      ]
     },
     "execution_count": 23,
     "metadata": {},
     "output_type": "execute_result"
    }
   ],
   "source": [
    "#(naam,index,kya hai)\n",
    "np.insert(arr,5,int(40))\n",
    "#shift+tab to document"
   ]
  },
  {
   "cell_type": "code",
   "execution_count": 24,
   "id": "cb385a03",
   "metadata": {},
   "outputs": [
    {
     "data": {
      "text/plain": [
       "array([10, 12, 14, 16, 18, 22, 24, 26, 28, 30, 32, 34, 36, 38])"
      ]
     },
     "execution_count": 24,
     "metadata": {},
     "output_type": "execute_result"
    }
   ],
   "source": [
    "np.delete(arr,5)"
   ]
  },
  {
   "cell_type": "code",
   "execution_count": 25,
   "id": "391d98bd",
   "metadata": {},
   "outputs": [
    {
     "data": {
      "text/plain": [
       "array([10, 12, 14, 16, 18, 20, 22, 24, 26, 28, 30, 32, 34, 36, 38])"
      ]
     },
     "execution_count": 25,
     "metadata": {},
     "output_type": "execute_result"
    }
   ],
   "source": [
    "arr\n"
   ]
  },
  {
   "cell_type": "code",
   "execution_count": 26,
   "id": "5b716c7d",
   "metadata": {},
   "outputs": [
    {
     "data": {
      "text/plain": [
       "array([100,  10,  12,  14,  16,  18,  20,  22,  24,  26,  28,  30,  32,\n",
       "        34,  36,  38])"
      ]
     },
     "execution_count": 26,
     "metadata": {},
     "output_type": "execute_result"
    }
   ],
   "source": [
    "np.insert(arr,0,100)"
   ]
  },
  {
   "cell_type": "code",
   "execution_count": 27,
   "id": "e5dde5f2",
   "metadata": {},
   "outputs": [
    {
     "data": {
      "text/plain": [
       "array([10, 12, 14, 16, 18, 20, 22, 24, 26, 28, 30, 32, 34, 36, 38])"
      ]
     },
     "execution_count": 27,
     "metadata": {},
     "output_type": "execute_result"
    }
   ],
   "source": [
    "arr\n",
    "#array mei nhi aay because array mei define nhi kiya"
   ]
  },
  {
   "cell_type": "code",
   "execution_count": 28,
   "id": "8a8385a2",
   "metadata": {},
   "outputs": [],
   "source": [
    "arr=np.insert(arr,0,100)"
   ]
  },
  {
   "cell_type": "code",
   "execution_count": 29,
   "id": "37774264",
   "metadata": {},
   "outputs": [
    {
     "data": {
      "text/plain": [
       "array([100,  10,  12,  14,  16,  18,  20,  22,  24,  26,  28,  30,  32,\n",
       "        34,  36,  38])"
      ]
     },
     "execution_count": 29,
     "metadata": {},
     "output_type": "execute_result"
    }
   ],
   "source": [
    "arr"
   ]
  },
  {
   "cell_type": "code",
   "execution_count": 30,
   "id": "342d1dfd",
   "metadata": {},
   "outputs": [],
   "source": [
    "arr=np.append(arr,69)"
   ]
  },
  {
   "cell_type": "code",
   "execution_count": 31,
   "id": "47d50d8d",
   "metadata": {},
   "outputs": [
    {
     "data": {
      "text/plain": [
       "array([100,  10,  12,  14,  16,  18,  20,  22,  24,  26,  28,  30,  32,\n",
       "        34,  36,  38,  69])"
      ]
     },
     "execution_count": 31,
     "metadata": {},
     "output_type": "execute_result"
    }
   ],
   "source": [
    "arr"
   ]
  },
  {
   "cell_type": "code",
   "execution_count": 32,
   "id": "0532655a",
   "metadata": {},
   "outputs": [
    {
     "data": {
      "text/plain": [
       "14"
      ]
     },
     "execution_count": 32,
     "metadata": {},
     "output_type": "execute_result"
    }
   ],
   "source": [
    "arr[3]"
   ]
  },
  {
   "cell_type": "code",
   "execution_count": 35,
   "id": "a9feb7cd",
   "metadata": {},
   "outputs": [],
   "source": [
    "#2-d array\n",
    "#array ke andar row wise=matrices\n",
    "mat=np.array([[1,2,3,4],[5,6,7,8],[9,10,11,12]])"
   ]
  },
  {
   "cell_type": "code",
   "execution_count": 37,
   "id": "a04a9396",
   "metadata": {},
   "outputs": [],
   "source": [
    "mat=np.array([[1,2,3,4],[5,6,7,8],[9,10,11,12]])"
   ]
  },
  {
   "cell_type": "code",
   "execution_count": 38,
   "id": "0b0c3edb",
   "metadata": {},
   "outputs": [
    {
     "data": {
      "text/plain": [
       "array([[ 1,  2,  3,  4],\n",
       "       [ 5,  6,  7,  8],\n",
       "       [ 9, 10, 11, 12]])"
      ]
     },
     "execution_count": 38,
     "metadata": {},
     "output_type": "execute_result"
    }
   ],
   "source": [
    "mat"
   ]
  },
  {
   "cell_type": "code",
   "execution_count": 39,
   "id": "93519307",
   "metadata": {},
   "outputs": [
    {
     "name": "stdout",
     "output_type": "stream",
     "text": [
      "[[ 1  2  3  4]\n",
      " [ 5  6  7  8]\n",
      " [ 9 10 11 12]]\n"
     ]
    }
   ],
   "source": [
    "print(mat)"
   ]
  },
  {
   "cell_type": "code",
   "execution_count": 40,
   "id": "cab88a0d",
   "metadata": {},
   "outputs": [
    {
     "name": "stdout",
     "output_type": "stream",
     "text": [
      "5.813088417053223\n"
     ]
    }
   ],
   "source": [
    "#speed list\n",
    "#pehla time import ko aur dusra uske andar ke function ko\n",
    "a=[i for i in range(1,10000000)]\n",
    "b=[i for i in range(10000000,20000000)]\n",
    "c=[]\n",
    "import time\n",
    "start=time.time()\n",
    "for i in range(len(a)):\n",
    "    c.append(a[1]+b[1])\n",
    "print(time.time()-start)"
   ]
  },
  {
   "cell_type": "code",
   "execution_count": 45,
   "id": "1f0ea736",
   "metadata": {},
   "outputs": [
    {
     "name": "stdout",
     "output_type": "stream",
     "text": [
      "0.03199434280395508\n"
     ]
    }
   ],
   "source": [
    "arr1=np.arange(10000000)\n",
    "arr2=np.arange(10000000,20000000)\n",
    "import time\n",
    "start=time.time()\n",
    "arr3=arr1+arr2\n",
    "print(time.time()-start)\n",
    "#numpy array is so fast"
   ]
  },
  {
   "cell_type": "code",
   "execution_count": 42,
   "id": "612dd616",
   "metadata": {},
   "outputs": [
    {
     "data": {
      "text/plain": [
       "11.677088104134024"
      ]
     },
     "execution_count": 42,
     "metadata": {},
     "output_type": "execute_result"
    }
   ],
   "source": [
    "5.813088/0.49782\n"
   ]
  },
  {
   "cell_type": "code",
   "execution_count": 43,
   "id": "b446b705",
   "metadata": {},
   "outputs": [
    {
     "data": {
      "text/plain": [
       "11.83673469387755"
      ]
     },
     "execution_count": 43,
     "metadata": {},
     "output_type": "execute_result"
    }
   ],
   "source": [
    "5.8/.49"
   ]
  },
  {
   "cell_type": "code",
   "execution_count": 46,
   "id": "8fbbf50c",
   "metadata": {},
   "outputs": [
    {
     "name": "stdout",
     "output_type": "stream",
     "text": [
      "1673958983.7935667\n"
     ]
    }
   ],
   "source": [
    "print(time.time())"
   ]
  },
  {
   "cell_type": "code",
   "execution_count": 47,
   "id": "06bc4b1c",
   "metadata": {},
   "outputs": [
    {
     "data": {
      "text/plain": [
       "array([[ 1,  2,  3,  4],\n",
       "       [ 5,  6,  7,  8],\n",
       "       [ 9, 10, 11, 12]])"
      ]
     },
     "execution_count": 47,
     "metadata": {},
     "output_type": "execute_result"
    }
   ],
   "source": [
    "mat"
   ]
  },
  {
   "cell_type": "code",
   "execution_count": 48,
   "id": "0a140860",
   "metadata": {},
   "outputs": [
    {
     "data": {
      "text/plain": [
       "array([5, 6, 7, 8])"
      ]
     },
     "execution_count": 48,
     "metadata": {},
     "output_type": "execute_result"
    }
   ],
   "source": [
    "#how to access elemnt\n",
    "mat[1]"
   ]
  },
  {
   "cell_type": "code",
   "execution_count": 49,
   "id": "68b640f4",
   "metadata": {},
   "outputs": [
    {
     "data": {
      "text/plain": [
       "6"
      ]
     },
     "execution_count": 49,
     "metadata": {},
     "output_type": "execute_result"
    }
   ],
   "source": [
    "mat[1,1]"
   ]
  },
  {
   "cell_type": "code",
   "execution_count": 50,
   "id": "63ed663d",
   "metadata": {},
   "outputs": [
    {
     "data": {
      "text/plain": [
       "13"
      ]
     },
     "execution_count": 50,
     "metadata": {},
     "output_type": "execute_result"
    }
   ],
   "source": [
    "mat[1,2]+mat[1,1]"
   ]
  },
  {
   "cell_type": "code",
   "execution_count": 52,
   "id": "ea599c26",
   "metadata": {},
   "outputs": [],
   "source": [
    "# number se start nhi kar sakte\n",
    "d3=np.array([[[1,2,3,4],[5,6,7,8],[9,10,11,12]]])"
   ]
  },
  {
   "cell_type": "code",
   "execution_count": 53,
   "id": "2ada6c19",
   "metadata": {},
   "outputs": [
    {
     "data": {
      "text/plain": [
       "array([[[ 1,  2,  3,  4],\n",
       "        [ 5,  6,  7,  8],\n",
       "        [ 9, 10, 11, 12]]])"
      ]
     },
     "execution_count": 53,
     "metadata": {},
     "output_type": "execute_result"
    }
   ],
   "source": [
    "d3"
   ]
  },
  {
   "cell_type": "code",
   "execution_count": 54,
   "id": "a4dafd37",
   "metadata": {},
   "outputs": [
    {
     "data": {
      "text/plain": [
       "6"
      ]
     },
     "execution_count": 54,
     "metadata": {},
     "output_type": "execute_result"
    }
   ],
   "source": [
    "mat[1,1]"
   ]
  },
  {
   "cell_type": "code",
   "execution_count": 57,
   "id": "b5c5ac4b",
   "metadata": {},
   "outputs": [
    {
     "name": "stdout",
     "output_type": "stream",
     "text": [
      "3\n",
      "7\n",
      "11\n"
     ]
    }
   ],
   "source": [
    "for i in range(3):\n",
    "    print(mat[i,2])"
   ]
  },
  {
   "cell_type": "code",
   "execution_count": 60,
   "id": "b5145ace",
   "metadata": {},
   "outputs": [],
   "source": [
    "d3=np.array([[[1,2,3,4],[5,6,7,8]],[[9,10,11,12],[13,14,15,16]]])"
   ]
  },
  {
   "cell_type": "code",
   "execution_count": 61,
   "id": "b2b837da",
   "metadata": {},
   "outputs": [
    {
     "data": {
      "text/plain": [
       "array([ 9, 10, 11, 12])"
      ]
     },
     "execution_count": 61,
     "metadata": {},
     "output_type": "execute_result"
    }
   ],
   "source": [
    "d3[1,0]"
   ]
  },
  {
   "cell_type": "code",
   "execution_count": 62,
   "id": "2b6e2b48",
   "metadata": {},
   "outputs": [
    {
     "data": {
      "text/plain": [
       "11"
      ]
     },
     "execution_count": 62,
     "metadata": {},
     "output_type": "execute_result"
    }
   ],
   "source": [
    "d3[1,0,2]"
   ]
  },
  {
   "cell_type": "code",
   "execution_count": null,
   "id": "2eab5c4a",
   "metadata": {},
   "outputs": [],
   "source": [
    "#task \n",
    "# 1)searching an elemnt in an array\n",
    "# 2)finding largest element in a array\n",
    "# 3)finding smallest number in an array\n",
    "# 4)reversing an array\n",
    "# 5)rotating an array from kth position"
   ]
  }
 ],
 "metadata": {
  "kernelspec": {
   "display_name": "Python 3 (ipykernel)",
   "language": "python",
   "name": "python3"
  },
  "language_info": {
   "codemirror_mode": {
    "name": "ipython",
    "version": 3
   },
   "file_extension": ".py",
   "mimetype": "text/x-python",
   "name": "python",
   "nbconvert_exporter": "python",
   "pygments_lexer": "ipython3",
   "version": "3.9.13"
  }
 },
 "nbformat": 4,
 "nbformat_minor": 5
}
