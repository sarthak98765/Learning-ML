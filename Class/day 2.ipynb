{
 "cells": [
  {
   "cell_type": "code",
   "execution_count": 8,
   "id": "57e1ed7a",
   "metadata": {},
   "outputs": [
    {
     "name": "stdout",
     "output_type": "stream",
     "text": [
      "a is greater than b\n",
      "machine learning\n"
     ]
    }
   ],
   "source": [
    "a=23\n",
    "b=20\n",
    "if a<b:\n",
    "    print(\"a is smaller than b\")\n",
    "    print(\"hello\")\n",
    "elif a==b:\n",
    "    print(\"a is equal to b\")\n",
    "else:\n",
    "    print(\"a is greater than b\")\n",
    "\n",
    "print(\"machine learning\")\n",
    "#if wala execute tabhi hoga jab condition true hogi\n",
    "#jo if ke andar hai sirf usme if lgega\n",
    "#colon should be used after if and else\n",
    "#elif mei double equal"
   ]
  },
  {
   "cell_type": "code",
   "execution_count": 6,
   "id": "211e035b",
   "metadata": {},
   "outputs": [
    {
     "name": "stdout",
     "output_type": "stream",
     "text": [
      "hii\n",
      "hello\n",
      "world\n"
     ]
    }
   ],
   "source": [
    "a=20\n",
    "b=23\n",
    "if a<b:\n",
    "    print(\"hii\")\n",
    "    print(\"hello\")\n",
    "print(\"world\")"
   ]
  },
  {
   "cell_type": "code",
   "execution_count": 9,
   "id": "4adece98",
   "metadata": {},
   "outputs": [
    {
     "name": "stdout",
     "output_type": "stream",
     "text": [
      "a is equal to b\n"
     ]
    }
   ],
   "source": [
    "a=20\n",
    "b=20\n",
    "if a<b:\n",
    "    print(\"a is smaller than b\")\n",
    "    print(\"hello\")\n",
    "elif a==b:\n",
    "    print(\"a is equal to b\")\n",
    "else:\n",
    "    print(\"a is greater than b\")"
   ]
  },
  {
   "cell_type": "code",
   "execution_count": 12,
   "id": "c3b4bcf7",
   "metadata": {},
   "outputs": [
    {
     "name": "stdout",
     "output_type": "stream",
     "text": [
      "a is smaller than b\n",
      "hello\n"
     ]
    }
   ],
   "source": [
    "a=20\n",
    "b=20\n",
    "if a<=b:\n",
    "    print(\"a is smaller than b\")\n",
    "    print(\"hello\")\n",
    "elif a==b:\n",
    "    print(\"a is equal to b\")\n",
    "else:\n",
    "    print(\"a is greater than b\")\n",
    "#first condition prove hone ke baad nhi jayegi aage"
   ]
  },
  {
   "cell_type": "code",
   "execution_count": 13,
   "id": "f23016f0",
   "metadata": {},
   "outputs": [
    {
     "name": "stdout",
     "output_type": "stream",
     "text": [
      "hhh\n"
     ]
    }
   ],
   "source": [
    "a=120\n",
    "b=200\n",
    "c=200\n",
    "if a<b and b==c:\n",
    "    print(\"hhh\")\n",
    "#2 statement ek saath check krne ke liye bich mei and ka use krege\n",
    "#and mei dono statement true honi chahiye"
   ]
  },
  {
   "cell_type": "code",
   "execution_count": 19,
   "id": "505c6d9e",
   "metadata": {},
   "outputs": [
    {
     "name": "stdout",
     "output_type": "stream",
     "text": [
      "more than 10\n",
      "more than 100\n"
     ]
    }
   ],
   "source": [
    "if a>10:\n",
    "    print(\"more than 10\")\n",
    "    if(a>100):\n",
    "        print(\"more than 100\")\n",
    "    else:\n",
    "        print(\"above 10 but less than 100\")"
   ]
  },
  {
   "cell_type": "code",
   "execution_count": 28,
   "id": "9df6526e",
   "metadata": {},
   "outputs": [
    {
     "name": "stdout",
     "output_type": "stream",
     "text": [
      "02\n",
      "<class 'str'>\n"
     ]
    }
   ],
   "source": [
    "x=input()\n",
    "x\n",
    "print(type(x))\n",
    "#by default string rehta hai\n",
    "#input hota hai input value lene ke liye"
   ]
  },
  {
   "cell_type": "code",
   "execution_count": 22,
   "id": "38774b88",
   "metadata": {},
   "outputs": [
    {
     "name": "stdout",
     "output_type": "stream",
     "text": [
      "23\n",
      "<class 'int'>\n"
     ]
    }
   ],
   "source": [
    "x=int(input())\n",
    "x\n",
    "print(type(x))\n",
    "#typecasting"
   ]
  },
  {
   "cell_type": "code",
   "execution_count": 24,
   "id": "d8b1e8ca",
   "metadata": {},
   "outputs": [],
   "source": [
    "a=23\n",
    "if a>100:\n",
    "    print(\"more than 100\")\n",
    "    if(a>10):\n",
    "        print(\"more than 10\")\n",
    "    else:\n",
    "        print(\"above 10 but less than 100\")\n",
    "#nested -ki if ke andar hai hi nhi first program"
   ]
  },
  {
   "cell_type": "code",
   "execution_count": 2,
   "id": "5da30b15",
   "metadata": {},
   "outputs": [
    {
     "name": "stdout",
     "output_type": "stream",
     "text": [
      "10\n",
      "<class 'str'>\n",
      "not equal to 10\n"
     ]
    }
   ],
   "source": [
    "x=input()\n",
    "print(type(x))\n",
    "if x==10:\n",
    "    print(\"equal to 10\")\n",
    "else:\n",
    "    print(\"not equal to 10\")"
   ]
  },
  {
   "cell_type": "code",
   "execution_count": 1,
   "id": "5a12b7d6",
   "metadata": {},
   "outputs": [
    {
     "name": "stdout",
     "output_type": "stream",
     "text": [
      "12\n",
      "<class 'int'>\n",
      "not equal to 10\n"
     ]
    }
   ],
   "source": [
    "x=int(input())\n",
    "print(type(x))\n",
    "if x==10:\n",
    "    print(\"equal to 10\")\n",
    "else:\n",
    "    print(\"not equal to 10\")"
   ]
  },
  {
   "cell_type": "code",
   "execution_count": 5,
   "id": "c1212922",
   "metadata": {},
   "outputs": [
    {
     "name": "stdout",
     "output_type": "stream",
     "text": [
      "34\n",
      "23\n",
      "22\n",
      "a is largest\n"
     ]
    }
   ],
   "source": [
    "a=input()\n",
    "b=input()\n",
    "c=input()\n",
    "if a>b and a>c:\n",
    "    print(\"a is largest\")\n",
    "if b>a and b>c:\n",
    "    print(\"b is largest\")\n",
    "if c>a and c>b:\n",
    "    print(\"c is largest\")"
   ]
  },
  {
   "cell_type": "code",
   "execution_count": 6,
   "id": "572ca105",
   "metadata": {},
   "outputs": [
    {
     "name": "stdout",
     "output_type": "stream",
     "text": [
      "for loop with new line character\n",
      "0\n",
      "1\n",
      "2\n",
      "3\n",
      "4\n",
      "5\n",
      "6\n",
      "7\n",
      "8\n",
      "9\n",
      "while loop without new line character\n",
      "0 1 2 3 4 5 6 7 8 9 "
     ]
    }
   ],
   "source": [
    "#looping\n",
    "print(\"for loop with new line character\")\n",
    "for i in range(0,10):\n",
    "    print(i)\n",
    "i = 0\n",
    "print(\"while loop without new line character\")\n",
    "while i<10:\n",
    "    print(i,end=\" \")\n",
    "    i+=1"
   ]
  },
  {
   "cell_type": "code",
   "execution_count": 8,
   "id": "d62ed1b8",
   "metadata": {},
   "outputs": [
    {
     "name": "stdout",
     "output_type": "stream",
     "text": [
      "1\n",
      "2\n",
      "3\n",
      "4\n",
      "5\n",
      "6\n",
      "7\n",
      "8\n",
      "9\n"
     ]
    }
   ],
   "source": [
    "for i in range(1,10):\n",
    "    print(i)\n",
    "#n-1 tak print krta hai"
   ]
  },
  {
   "cell_type": "code",
   "execution_count": null,
   "id": "de724a0e",
   "metadata": {},
   "outputs": [],
   "source": []
  }
 ],
 "metadata": {
  "kernelspec": {
   "display_name": "Python 3 (ipykernel)",
   "language": "python",
   "name": "python3"
  },
  "language_info": {
   "codemirror_mode": {
    "name": "ipython",
    "version": 3
   },
   "file_extension": ".py",
   "mimetype": "text/x-python",
   "name": "python",
   "nbconvert_exporter": "python",
   "pygments_lexer": "ipython3",
   "version": "3.9.13"
  }
 },
 "nbformat": 4,
 "nbformat_minor": 5
}
