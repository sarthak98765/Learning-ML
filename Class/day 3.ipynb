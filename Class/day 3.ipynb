{
 "cells": [
  {
   "cell_type": "code",
   "execution_count": 1,
   "id": "5313eacd",
   "metadata": {},
   "outputs": [],
   "source": [
    "list=[]\n",
    "#list. then tab \n",
    "#[]=list bnana\n",
    "()=tuple,dusra data structue"
   ]
  },
  {
   "cell_type": "code",
   "execution_count": 2,
   "id": "e1bc04de",
   "metadata": {},
   "outputs": [
    {
     "data": {
      "text/plain": [
       "[10]"
      ]
     },
     "execution_count": 2,
     "metadata": {},
     "output_type": "execute_result"
    }
   ],
   "source": [
    "list.append(10)\n",
    "list\n",
    "#append mtlb last mei ek element add karna"
   ]
  },
  {
   "cell_type": "code",
   "execution_count": 3,
   "id": "c947995f",
   "metadata": {},
   "outputs": [
    {
     "data": {
      "text/plain": [
       "[10, 20]"
      ]
     },
     "execution_count": 3,
     "metadata": {},
     "output_type": "execute_result"
    }
   ],
   "source": [
    "list.append(20)\n",
    "list"
   ]
  },
  {
   "cell_type": "code",
   "execution_count": 5,
   "id": "3ecd266e",
   "metadata": {},
   "outputs": [
    {
     "data": {
      "text/plain": [
       "[10, 20, 'innogeeks']"
      ]
     },
     "execution_count": 5,
     "metadata": {},
     "output_type": "execute_result"
    }
   ],
   "source": [
    "list.append(\"innogeeks\")\n",
    "list"
   ]
  },
  {
   "cell_type": "code",
   "execution_count": 6,
   "id": "ce65b540",
   "metadata": {},
   "outputs": [
    {
     "data": {
      "text/plain": [
       "[10, 20, 30, 'innogeeks']"
      ]
     },
     "execution_count": 6,
     "metadata": {},
     "output_type": "execute_result"
    }
   ],
   "source": [
    "#insert=koi position pe koi number add krna ho\n",
    "list.insert(2,30)\n",
    "list"
   ]
  },
  {
   "cell_type": "code",
   "execution_count": 7,
   "id": "d9dc56fb",
   "metadata": {},
   "outputs": [
    {
     "data": {
      "text/plain": [
       "'innogeeks'"
      ]
     },
     "execution_count": 7,
     "metadata": {},
     "output_type": "execute_result"
    }
   ],
   "source": [
    "#pop=last element delete\n",
    "list.pop()"
   ]
  },
  {
   "cell_type": "code",
   "execution_count": 8,
   "id": "ddcf6b5f",
   "metadata": {},
   "outputs": [
    {
     "data": {
      "text/plain": [
       "[10, 20, 30]"
      ]
     },
     "execution_count": 8,
     "metadata": {},
     "output_type": "execute_result"
    }
   ],
   "source": [
    "list"
   ]
  },
  {
   "cell_type": "code",
   "execution_count": 9,
   "id": "19dbbfa6",
   "metadata": {},
   "outputs": [
    {
     "data": {
      "text/plain": [
       "[10, 20, 30, 40, 'innogeeks']"
      ]
     },
     "execution_count": 9,
     "metadata": {},
     "output_type": "execute_result"
    }
   ],
   "source": [
    "list.append(40)\n",
    "list.append(\"innogeeks\")\n",
    "list"
   ]
  },
  {
   "cell_type": "code",
   "execution_count": 4,
   "id": "9a1ece08",
   "metadata": {},
   "outputs": [
    {
     "ename": "TypeError",
     "evalue": "descriptor 'pop' for 'list' objects doesn't apply to a 'int' object",
     "output_type": "error",
     "traceback": [
      "\u001b[1;31m---------------------------------------------------------------------------\u001b[0m",
      "\u001b[1;31mTypeError\u001b[0m                                 Traceback (most recent call last)",
      "\u001b[1;32m~\\AppData\\Local\\Temp\\ipykernel_11448\\3165817238.py\u001b[0m in \u001b[0;36m<module>\u001b[1;34m\u001b[0m\n\u001b[0;32m      1\u001b[0m \u001b[1;31m#pop(2)=3rd index delete because position of 30 is 0 1 2\u001b[0m\u001b[1;33m\u001b[0m\u001b[1;33m\u001b[0m\u001b[0m\n\u001b[0;32m      2\u001b[0m \u001b[1;31m#pop se sirf last aur uske andr number se index\u001b[0m\u001b[1;33m\u001b[0m\u001b[1;33m\u001b[0m\u001b[0m\n\u001b[1;32m----> 3\u001b[1;33m \u001b[0mlist\u001b[0m\u001b[1;33m.\u001b[0m\u001b[0mpop\u001b[0m\u001b[1;33m(\u001b[0m\u001b[1;36m2\u001b[0m\u001b[1;33m)\u001b[0m\u001b[1;33m\u001b[0m\u001b[1;33m\u001b[0m\u001b[0m\n\u001b[0m",
      "\u001b[1;31mTypeError\u001b[0m: descriptor 'pop' for 'list' objects doesn't apply to a 'int' object"
     ]
    }
   ],
   "source": [
    "#pop(2)=3rd index delete because position of 30 is 0 1 2\n",
    "#pop se sirf last aur uske andr number se index\n",
    "list.pop(2)"
   ]
  },
  {
   "cell_type": "code",
   "execution_count": 5,
   "id": "3e786e7e",
   "metadata": {},
   "outputs": [
    {
     "data": {
      "text/plain": [
       "list"
      ]
     },
     "execution_count": 5,
     "metadata": {},
     "output_type": "execute_result"
    }
   ],
   "source": [
    "list"
   ]
  },
  {
   "cell_type": "code",
   "execution_count": 12,
   "id": "15ad7f77",
   "metadata": {},
   "outputs": [
    {
     "ename": "TypeError",
     "evalue": "'<' not supported between instances of 'str' and 'int'",
     "output_type": "error",
     "traceback": [
      "\u001b[1;31m---------------------------------------------------------------------------\u001b[0m",
      "\u001b[1;31mTypeError\u001b[0m                                 Traceback (most recent call last)",
      "\u001b[1;32m~\\AppData\\Local\\Temp\\ipykernel_17396\\1389050415.py\u001b[0m in \u001b[0;36m<module>\u001b[1;34m\u001b[0m\n\u001b[1;32m----> 1\u001b[1;33m \u001b[0mlist\u001b[0m\u001b[1;33m.\u001b[0m\u001b[0msort\u001b[0m\u001b[1;33m(\u001b[0m\u001b[1;33m)\u001b[0m\u001b[1;33m\u001b[0m\u001b[1;33m\u001b[0m\u001b[0m\n\u001b[0m",
      "\u001b[1;31mTypeError\u001b[0m: '<' not supported between instances of 'str' and 'int'"
     ]
    }
   ],
   "source": [
    "list.sort()\n",
    "#datatype same nhi hai sabki"
   ]
  },
  {
   "cell_type": "code",
   "execution_count": 13,
   "id": "4394929b",
   "metadata": {},
   "outputs": [
    {
     "data": {
      "text/plain": [
       "'innogeeks'"
      ]
     },
     "execution_count": 13,
     "metadata": {},
     "output_type": "execute_result"
    }
   ],
   "source": [
    "list.pop()\n"
   ]
  },
  {
   "cell_type": "code",
   "execution_count": 14,
   "id": "757fa628",
   "metadata": {},
   "outputs": [
    {
     "data": {
      "text/plain": [
       "[10, 20, 40]"
      ]
     },
     "execution_count": 14,
     "metadata": {},
     "output_type": "execute_result"
    }
   ],
   "source": [
    "list"
   ]
  },
  {
   "cell_type": "code",
   "execution_count": 15,
   "id": "db8ea2f1",
   "metadata": {},
   "outputs": [],
   "source": [
    "list.sort()"
   ]
  },
  {
   "cell_type": "code",
   "execution_count": 16,
   "id": "db389cc4",
   "metadata": {},
   "outputs": [
    {
     "data": {
      "text/plain": [
       "[10, 20, 40]"
      ]
     },
     "execution_count": 16,
     "metadata": {},
     "output_type": "execute_result"
    }
   ],
   "source": [
    "list"
   ]
  },
  {
   "cell_type": "code",
   "execution_count": 17,
   "id": "5794d6c8",
   "metadata": {},
   "outputs": [
    {
     "data": {
      "text/plain": [
       "[10, 20, 40, 15]"
      ]
     },
     "execution_count": 17,
     "metadata": {},
     "output_type": "execute_result"
    }
   ],
   "source": [
    "list.append(15)\n",
    "list"
   ]
  },
  {
   "cell_type": "code",
   "execution_count": 18,
   "id": "0a32515c",
   "metadata": {},
   "outputs": [],
   "source": [
    "list.sort()"
   ]
  },
  {
   "cell_type": "code",
   "execution_count": 19,
   "id": "705b08ea",
   "metadata": {},
   "outputs": [
    {
     "data": {
      "text/plain": [
       "[10, 15, 20, 40]"
      ]
     },
     "execution_count": 19,
     "metadata": {},
     "output_type": "execute_result"
    }
   ],
   "source": [
    "list\n",
    "#sort=list ko increasing order mei"
   ]
  },
  {
   "cell_type": "code",
   "execution_count": 20,
   "id": "3a03040a",
   "metadata": {},
   "outputs": [
    {
     "data": {
      "text/plain": [
       "[40, 20, 15, 10]"
      ]
     },
     "execution_count": 20,
     "metadata": {},
     "output_type": "execute_result"
    }
   ],
   "source": [
    "list.sort(reverse=True)\n",
    "list\n",
    "#reverse se decreasing order mei"
   ]
  },
  {
   "cell_type": "code",
   "execution_count": 38,
   "id": "1296051c",
   "metadata": {},
   "outputs": [],
   "source": [
    "list2=[\"hello\",\"hii\",\"nice\"]\n",
    "#dusri list banane ke liye\n"
   ]
  },
  {
   "cell_type": "code",
   "execution_count": 39,
   "id": "0671fa8c",
   "metadata": {},
   "outputs": [
    {
     "data": {
      "text/plain": [
       "[40, 20, 15, 10]"
      ]
     },
     "execution_count": 39,
     "metadata": {},
     "output_type": "execute_result"
    }
   ],
   "source": [
    "list"
   ]
  },
  {
   "cell_type": "code",
   "execution_count": 40,
   "id": "33ce7fbc",
   "metadata": {},
   "outputs": [
    {
     "data": {
      "text/plain": [
       "['hello', 'hii', 'nice']"
      ]
     },
     "execution_count": 40,
     "metadata": {},
     "output_type": "execute_result"
    }
   ],
   "source": [
    "list2"
   ]
  },
  {
   "cell_type": "code",
   "execution_count": 41,
   "id": "0632a7f4",
   "metadata": {},
   "outputs": [],
   "source": [
    "list2.sort()"
   ]
  },
  {
   "cell_type": "code",
   "execution_count": 43,
   "id": "db5f6c39",
   "metadata": {},
   "outputs": [
    {
     "data": {
      "text/plain": [
       "['hello', 'hii', 'nice']"
      ]
     },
     "execution_count": 43,
     "metadata": {},
     "output_type": "execute_result"
    }
   ],
   "source": [
    "list2\n",
    "#alphatecially default"
   ]
  },
  {
   "cell_type": "code",
   "execution_count": 44,
   "id": "3bbfcd6b",
   "metadata": {},
   "outputs": [
    {
     "data": {
      "text/plain": [
       "['hii', 'nice', 'hello']"
      ]
     },
     "execution_count": 44,
     "metadata": {},
     "output_type": "execute_result"
    }
   ],
   "source": [
    "list2.sort(key=len)\n",
    "list2\n",
    "#len se length wise increasing order"
   ]
  },
  {
   "cell_type": "code",
   "execution_count": 45,
   "id": "aaa29756",
   "metadata": {},
   "outputs": [
    {
     "data": {
      "text/plain": [
       "['hii', 'nice', 'hello']"
      ]
     },
     "execution_count": 45,
     "metadata": {},
     "output_type": "execute_result"
    }
   ],
   "source": [
    "list2"
   ]
  },
  {
   "cell_type": "code",
   "execution_count": 46,
   "id": "a03d5393",
   "metadata": {},
   "outputs": [
    {
     "data": {
      "text/plain": [
       "[40, 20, 15, 10, 'hii', 'nice', 'hello']"
      ]
     },
     "execution_count": 46,
     "metadata": {},
     "output_type": "execute_result"
    }
   ],
   "source": [
    "list+list2"
   ]
  },
  {
   "cell_type": "code",
   "execution_count": 49,
   "id": "32b70674",
   "metadata": {},
   "outputs": [
    {
     "data": {
      "text/plain": [
       "[1, 4, 9, 16, 25, 36, 49, 64, 81, 100]"
      ]
     },
     "execution_count": 49,
     "metadata": {},
     "output_type": "execute_result"
    }
   ],
   "source": [
    "list3=[]\n",
    "for i in range(1,11):\n",
    "    list3.append(i**2)\n",
    "list3\n",
    "#range ke hisab se krega\n",
    "#** se power"
   ]
  },
  {
   "cell_type": "code",
   "execution_count": 50,
   "id": "63f10a78",
   "metadata": {},
   "outputs": [],
   "source": [
    "\n",
    "list3=[x**3 for x in range(1,11)]\n"
   ]
  },
  {
   "cell_type": "code",
   "execution_count": 51,
   "id": "cc2dd1c5",
   "metadata": {},
   "outputs": [
    {
     "data": {
      "text/plain": [
       "[1, 8, 27, 64, 125, 216, 343, 512, 729, 1000]"
      ]
     },
     "execution_count": 51,
     "metadata": {},
     "output_type": "execute_result"
    }
   ],
   "source": [
    "list3"
   ]
  },
  {
   "cell_type": "code",
   "execution_count": 55,
   "id": "222d483c",
   "metadata": {},
   "outputs": [
    {
     "data": {
      "text/plain": [
       "[(1, 3), (1, 4), (1, 5), (2, 3), (2, 4), (2, 5), (3, 3), (3, 4), (3, 5)]"
      ]
     },
     "execution_count": 55,
     "metadata": {},
     "output_type": "execute_result"
    }
   ],
   "source": [
    "l1=[1,2,3]\n",
    "l2=[3,4,5]\n",
    "list=[]\n",
    "for i in l1:\n",
    "    for j in l2:\n",
    "        list.append((i,j))\n",
    "list"
   ]
  },
  {
   "cell_type": "code",
   "execution_count": 56,
   "id": "a31edcd5",
   "metadata": {},
   "outputs": [],
   "source": [
    "x=(3,4)"
   ]
  },
  {
   "cell_type": "code",
   "execution_count": 58,
   "id": "10ef02a0",
   "metadata": {},
   "outputs": [
    {
     "data": {
      "text/plain": [
       "list"
      ]
     },
     "execution_count": 58,
     "metadata": {},
     "output_type": "execute_result"
    }
   ],
   "source": [
    "type(list)"
   ]
  },
  {
   "cell_type": "code",
   "execution_count": 59,
   "id": "08a78ea1",
   "metadata": {},
   "outputs": [
    {
     "data": {
      "text/plain": [
       "[(1, 3), (1, 4), (1, 5), (2, 3), (2, 4), (2, 5), (3, 3), (3, 4), (3, 5)]"
      ]
     },
     "execution_count": 59,
     "metadata": {},
     "output_type": "execute_result"
    }
   ],
   "source": [
    "list=[(x,y) for x in l1 for y in l2 ]\n",
    "list"
   ]
  },
  {
   "cell_type": "code",
   "execution_count": 60,
   "id": "15fdfd2c",
   "metadata": {},
   "outputs": [
    {
     "data": {
      "text/plain": [
       "3"
      ]
     },
     "execution_count": 60,
     "metadata": {},
     "output_type": "execute_result"
    }
   ],
   "source": [
    "a=[[1,2,3],[4,5,6],[7,8,9]]\n",
    "len(a)"
   ]
  },
  {
   "cell_type": "code",
   "execution_count": 61,
   "id": "b1d130e9",
   "metadata": {},
   "outputs": [
    {
     "data": {
      "text/plain": [
       "2"
      ]
     },
     "execution_count": 61,
     "metadata": {},
     "output_type": "execute_result"
    }
   ],
   "source": [
    "a[0][1]\n",
    "#1st index ka 2nd element"
   ]
  },
  {
   "cell_type": "code",
   "execution_count": 63,
   "id": "45a87cbf",
   "metadata": {},
   "outputs": [],
   "source": [
    "#dictionary\n",
    "dict={143:\"suyash\",450:\"hello\"}"
   ]
  },
  {
   "cell_type": "code",
   "execution_count": 64,
   "id": "d6dfa83c",
   "metadata": {},
   "outputs": [
    {
     "data": {
      "text/plain": [
       "'suyash'"
      ]
     },
     "execution_count": 64,
     "metadata": {},
     "output_type": "execute_result"
    }
   ],
   "source": [
    "dict[143]"
   ]
  },
  {
   "cell_type": "code",
   "execution_count": 66,
   "id": "5e00e7c9",
   "metadata": {},
   "outputs": [
    {
     "data": {
      "text/plain": [
       "'hello'"
      ]
     },
     "execution_count": 66,
     "metadata": {},
     "output_type": "execute_result"
    }
   ],
   "source": [
    "dict[450]"
   ]
  },
  {
   "cell_type": "code",
   "execution_count": 69,
   "id": "e91adac9",
   "metadata": {},
   "outputs": [
    {
     "data": {
      "text/plain": [
       "dict_keys([143, 450])"
      ]
     },
     "execution_count": 69,
     "metadata": {},
     "output_type": "execute_result"
    }
   ],
   "source": [
    "dict.keys()\n",
    "#keys ki value"
   ]
  },
  {
   "cell_type": "code",
   "execution_count": 76,
   "id": "d4dec20d",
   "metadata": {},
   "outputs": [
    {
     "data": {
      "text/plain": [
       "dict_items([('kanishk', ['webd', 'ML', 'backend', 'cloud', 'c', 'c++', 'python', 'go', 'rust']), ('jhonny sins', ['doctor', 'engineer', 'sci', 'teaacher'])])"
      ]
     },
     "execution_count": 76,
     "metadata": {},
     "output_type": "execute_result"
    }
   ],
   "source": [
    "#dict. then tab\n",
    "dict.items()"
   ]
  },
  {
   "cell_type": "code",
   "execution_count": 73,
   "id": "cc43edb6",
   "metadata": {},
   "outputs": [],
   "source": [
    "list1=[\"webd\",\"ML\",\"backend\",\"cloud\",\"c\",\"c++\",\"python\",\"go\",\"rust\"]\n",
    "list2=[\"doctor\",\"engineer\",\"sci\",\"teaacher\"]\n",
    "dict={\"kanishk\":list1,\"jhonny sins\":list2}"
   ]
  },
  {
   "cell_type": "code",
   "execution_count": 74,
   "id": "cefc30cb",
   "metadata": {},
   "outputs": [
    {
     "data": {
      "text/plain": [
       "['webd', 'ML', 'backend', 'cloud', 'c', 'c++', 'python', 'go', 'rust']"
      ]
     },
     "execution_count": 74,
     "metadata": {},
     "output_type": "execute_result"
    }
   ],
   "source": [
    "dict[\"kanishk\"]"
   ]
  },
  {
   "cell_type": "code",
   "execution_count": 75,
   "id": "9c4f57a7",
   "metadata": {},
   "outputs": [
    {
     "data": {
      "text/plain": [
       "['doctor', 'engineer', 'sci', 'teaacher']"
      ]
     },
     "execution_count": 75,
     "metadata": {},
     "output_type": "execute_result"
    }
   ],
   "source": [
    "dict[\"jhonny sins\"]"
   ]
  },
  {
   "cell_type": "code",
   "execution_count": 77,
   "id": "9bb51bf0",
   "metadata": {},
   "outputs": [
    {
     "name": "stdout",
     "output_type": "stream",
     "text": [
      "hello\n"
     ]
    }
   ],
   "source": [
    "print('hello')"
   ]
  },
  {
   "cell_type": "code",
   "execution_count": 78,
   "id": "4b185c55",
   "metadata": {},
   "outputs": [],
   "source": [
    "dict={143:\"hii\",456:\"hello\"}"
   ]
  },
  {
   "cell_type": "code",
   "execution_count": 79,
   "id": "a3c0fe13",
   "metadata": {},
   "outputs": [
    {
     "name": "stdout",
     "output_type": "stream",
     "text": [
      "143 hii\n",
      "456 hello\n"
     ]
    }
   ],
   "source": [
    "for keys,values in dict.items():\n",
    "    print(keys,values)"
   ]
  },
  {
   "cell_type": "code",
   "execution_count": 80,
   "id": "67f1aa91",
   "metadata": {},
   "outputs": [],
   "source": [
    "#string,formatting\n"
   ]
  },
  {
   "cell_type": "code",
   "execution_count": 81,
   "id": "3db29fc1",
   "metadata": {},
   "outputs": [
    {
     "name": "stdout",
     "output_type": "stream",
     "text": [
      "hello your age is 9\n"
     ]
    }
   ],
   "source": [
    "a=9 \n",
    "print(f\"hello your age is {a}\")\n",
    "#value ko print krne ke liye f"
   ]
  },
  {
   "cell_type": "code",
   "execution_count": null,
   "id": "9251a12c",
   "metadata": {},
   "outputs": [],
   "source": [
    "#ques=55 m3i sirf 3 ouput aaye 1,3  2,4  3,5"
   ]
  }
 ],
 "metadata": {
  "kernelspec": {
   "display_name": "Python 3 (ipykernel)",
   "language": "python",
   "name": "python3"
  },
  "language_info": {
   "codemirror_mode": {
    "name": "ipython",
    "version": 3
   },
   "file_extension": ".py",
   "mimetype": "text/x-python",
   "name": "python",
   "nbconvert_exporter": "python",
   "pygments_lexer": "ipython3",
   "version": "3.9.13"
  }
 },
 "nbformat": 4,
 "nbformat_minor": 5
}
