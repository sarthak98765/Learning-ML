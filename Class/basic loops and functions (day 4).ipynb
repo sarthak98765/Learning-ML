{
 "cells": [
  {
   "cell_type": "code",
   "execution_count": 1,
   "id": "4d7ddc55",
   "metadata": {},
   "outputs": [],
   "source": [
    "list=[x for x in range(10)]"
   ]
  },
  {
   "cell_type": "code",
   "execution_count": 2,
   "id": "a307e1c1",
   "metadata": {},
   "outputs": [
    {
     "data": {
      "text/plain": [
       "[0, 1, 2, 3, 4, 5, 6, 7, 8, 9]"
      ]
     },
     "execution_count": 2,
     "metadata": {},
     "output_type": "execute_result"
    }
   ],
   "source": [
    "list"
   ]
  },
  {
   "cell_type": "code",
   "execution_count": 3,
   "id": "6cb34bd5",
   "metadata": {},
   "outputs": [
    {
     "data": {
      "text/plain": [
       "184"
      ]
     },
     "execution_count": 3,
     "metadata": {},
     "output_type": "execute_result"
    }
   ],
   "source": [
    "import sys\n",
    "sys.getsizeof(list)\n",
    "#memory stored"
   ]
  },
  {
   "cell_type": "code",
   "execution_count": 4,
   "id": "bbc68bb1",
   "metadata": {},
   "outputs": [],
   "source": [
    "x=range(100)"
   ]
  },
  {
   "cell_type": "code",
   "execution_count": 5,
   "id": "a5c9f2d6",
   "metadata": {},
   "outputs": [
    {
     "data": {
      "text/plain": [
       "48"
      ]
     },
     "execution_count": 5,
     "metadata": {},
     "output_type": "execute_result"
    }
   ],
   "source": [
    "sys.getsizeof(x)"
   ]
  },
  {
   "cell_type": "code",
   "execution_count": 38,
   "id": "6c1e6357",
   "metadata": {},
   "outputs": [],
   "source": [
    "y=dir(sys)"
   ]
  },
  {
   "cell_type": "code",
   "execution_count": 6,
   "id": "7dd0d356",
   "metadata": {},
   "outputs": [],
   "source": [
    "#STRINGS\n"
   ]
  },
  {
   "cell_type": "code",
   "execution_count": 39,
   "id": "15b66390",
   "metadata": {},
   "outputs": [
    {
     "data": {
      "text/plain": [
       "['__breakpointhook__',\n",
       " '__displayhook__',\n",
       " '__doc__',\n",
       " '__excepthook__',\n",
       " '__interactivehook__',\n",
       " '__loader__',\n",
       " '__name__',\n",
       " '__package__',\n",
       " '__spec__',\n",
       " '__stderr__',\n",
       " '__stdin__',\n",
       " '__stdout__',\n",
       " '__unraisablehook__',\n",
       " '_base_executable',\n",
       " '_clear_type_cache',\n",
       " '_current_frames',\n",
       " '_debugmallocstats',\n",
       " '_enablelegacywindowsfsencoding',\n",
       " '_framework',\n",
       " '_getframe',\n",
       " '_git',\n",
       " '_home',\n",
       " '_xoptions',\n",
       " 'addaudithook',\n",
       " 'api_version',\n",
       " 'argv',\n",
       " 'audit',\n",
       " 'base_exec_prefix',\n",
       " 'base_prefix',\n",
       " 'breakpointhook',\n",
       " 'builtin_module_names',\n",
       " 'byteorder',\n",
       " 'call_tracing',\n",
       " 'copyright',\n",
       " 'displayhook',\n",
       " 'dllhandle',\n",
       " 'dont_write_bytecode',\n",
       " 'exc_info',\n",
       " 'excepthook',\n",
       " 'exec_prefix',\n",
       " 'executable',\n",
       " 'exit',\n",
       " 'flags',\n",
       " 'float_info',\n",
       " 'float_repr_style',\n",
       " 'get_asyncgen_hooks',\n",
       " 'get_coroutine_origin_tracking_depth',\n",
       " 'getallocatedblocks',\n",
       " 'getdefaultencoding',\n",
       " 'getfilesystemencodeerrors',\n",
       " 'getfilesystemencoding',\n",
       " 'getprofile',\n",
       " 'getrecursionlimit',\n",
       " 'getrefcount',\n",
       " 'getsizeof',\n",
       " 'getswitchinterval',\n",
       " 'gettrace',\n",
       " 'getwindowsversion',\n",
       " 'hash_info',\n",
       " 'hexversion',\n",
       " 'implementation',\n",
       " 'int_info',\n",
       " 'intern',\n",
       " 'is_finalizing',\n",
       " 'last_traceback',\n",
       " 'last_type',\n",
       " 'last_value',\n",
       " 'maxsize',\n",
       " 'maxunicode',\n",
       " 'meta_path',\n",
       " 'modules',\n",
       " 'path',\n",
       " 'path_hooks',\n",
       " 'path_importer_cache',\n",
       " 'platform',\n",
       " 'platlibdir',\n",
       " 'prefix',\n",
       " 'ps1',\n",
       " 'ps2',\n",
       " 'ps3',\n",
       " 'pycache_prefix',\n",
       " 'set_asyncgen_hooks',\n",
       " 'set_coroutine_origin_tracking_depth',\n",
       " 'setprofile',\n",
       " 'setrecursionlimit',\n",
       " 'setswitchinterval',\n",
       " 'settrace',\n",
       " 'stderr',\n",
       " 'stdin',\n",
       " 'stdout',\n",
       " 'thread_info',\n",
       " 'unraisablehook',\n",
       " 'version',\n",
       " 'version_info',\n",
       " 'warnoptions',\n",
       " 'winver']"
      ]
     },
     "execution_count": 39,
     "metadata": {},
     "output_type": "execute_result"
    }
   ],
   "source": [
    "y"
   ]
  },
  {
   "cell_type": "code",
   "execution_count": 7,
   "id": "dfac595a",
   "metadata": {},
   "outputs": [
    {
     "name": "stdout",
     "output_type": "stream",
     "text": [
      "0\n",
      "1\n",
      "2\n",
      "3\n",
      "4\n",
      "5\n",
      "6\n",
      "7\n",
      "8\n",
      "9\n"
     ]
    }
   ],
   "source": [
    "for x in list:\n",
    "    print(x)"
   ]
  },
  {
   "cell_type": "code",
   "execution_count": 8,
   "id": "c80e76a3",
   "metadata": {},
   "outputs": [
    {
     "name": "stdout",
     "output_type": "stream",
     "text": [
      "h\n",
      "e\n",
      "l\n",
      "l\n",
      "o\n"
     ]
    }
   ],
   "source": [
    "for x in \"hello\":\n",
    "    print(x)"
   ]
  },
  {
   "cell_type": "code",
   "execution_count": null,
   "id": "b23ad89a",
   "metadata": {},
   "outputs": [],
   "source": [
    "#indentation =andar likhn kisi command ke by :"
   ]
  },
  {
   "cell_type": "code",
   "execution_count": 9,
   "id": "cfb0b97b",
   "metadata": {},
   "outputs": [],
   "source": [
    "a=\"hello,world!\""
   ]
  },
  {
   "cell_type": "code",
   "execution_count": 10,
   "id": "196a53f3",
   "metadata": {},
   "outputs": [
    {
     "name": "stdout",
     "output_type": "stream",
     "text": [
      "h\n",
      "e\n",
      "l\n",
      "l\n",
      "o\n",
      ",\n",
      "w\n",
      "o\n",
      "r\n",
      "l\n",
      "d\n",
      "!\n"
     ]
    }
   ],
   "source": [
    "for x in a:\n",
    "    print(x)"
   ]
  },
  {
   "cell_type": "code",
   "execution_count": 11,
   "id": "1bef8a5a",
   "metadata": {},
   "outputs": [
    {
     "data": {
      "text/plain": [
       "'hello,world!'"
      ]
     },
     "execution_count": 11,
     "metadata": {},
     "output_type": "execute_result"
    }
   ],
   "source": [
    "a"
   ]
  },
  {
   "cell_type": "raw",
   "id": "40098c80",
   "metadata": {},
   "source": [
    "#string(start,stop,skip)"
   ]
  },
  {
   "cell_type": "code",
   "execution_count": 12,
   "id": "86995911",
   "metadata": {},
   "outputs": [
    {
     "name": "stdout",
     "output_type": "stream",
     "text": [
      "o,wo\n"
     ]
    }
   ],
   "source": [
    "print(a[4:8:])"
   ]
  },
  {
   "cell_type": "code",
   "execution_count": 13,
   "id": "23beff13",
   "metadata": {},
   "outputs": [
    {
     "name": "stdout",
     "output_type": "stream",
     "text": [
      "ello,wo\n"
     ]
    }
   ],
   "source": [
    "print(a[1:8])"
   ]
  },
  {
   "cell_type": "code",
   "execution_count": 14,
   "id": "7611a0bd",
   "metadata": {},
   "outputs": [
    {
     "name": "stdout",
     "output_type": "stream",
     "text": [
      "hello,wo\n"
     ]
    }
   ],
   "source": [
    "print(a[:8])"
   ]
  },
  {
   "cell_type": "code",
   "execution_count": 16,
   "id": "ab68033e",
   "metadata": {},
   "outputs": [
    {
     "name": "stdout",
     "output_type": "stream",
     "text": [
      "l,\n"
     ]
    }
   ],
   "source": [
    "print(a[2:7:3])"
   ]
  },
  {
   "cell_type": "code",
   "execution_count": 18,
   "id": "c92dfafa",
   "metadata": {},
   "outputs": [
    {
     "name": "stdout",
     "output_type": "stream",
     "text": [
      "!\n"
     ]
    }
   ],
   "source": [
    "print(a[-1:-4:-5])"
   ]
  },
  {
   "cell_type": "code",
   "execution_count": 19,
   "id": "b9368e35",
   "metadata": {},
   "outputs": [],
   "source": [
    "str=\"hello, i am studying in innogeeks class\""
   ]
  },
  {
   "cell_type": "code",
   "execution_count": 20,
   "id": "94326fdf",
   "metadata": {},
   "outputs": [
    {
     "name": "stdout",
     "output_type": "stream",
     "text": [
      "True\n"
     ]
    }
   ],
   "source": [
    "#agar word hai to true warna false\n",
    "print(\"am\" in str)"
   ]
  },
  {
   "cell_type": "code",
   "execution_count": 21,
   "id": "0147fdef",
   "metadata": {},
   "outputs": [
    {
     "name": "stdout",
     "output_type": "stream",
     "text": [
      "False\n"
     ]
    }
   ],
   "source": [
    "print(\"are\" in str)"
   ]
  },
  {
   "cell_type": "code",
   "execution_count": 22,
   "id": "b98ff05d",
   "metadata": {},
   "outputs": [
    {
     "data": {
      "text/plain": [
       "'HELLO, I AM STUDYING IN INNOGEEKS CLASS'"
      ]
     },
     "execution_count": 22,
     "metadata": {},
     "output_type": "execute_result"
    }
   ],
   "source": [
    "str.upper()\n",
    "#upper se upper case mei change ho jayega"
   ]
  },
  {
   "cell_type": "code",
   "execution_count": 23,
   "id": "c2dec008",
   "metadata": {},
   "outputs": [
    {
     "data": {
      "text/plain": [
       "'hello, i am studying in innogeeks class'"
      ]
     },
     "execution_count": 23,
     "metadata": {},
     "output_type": "execute_result"
    }
   ],
   "source": [
    "str"
   ]
  },
  {
   "cell_type": "code",
   "execution_count": 24,
   "id": "45f0acf2",
   "metadata": {},
   "outputs": [
    {
     "ename": "TypeError",
     "evalue": "can only concatenate str (not \"int\") to str",
     "output_type": "error",
     "traceback": [
      "\u001b[1;31m---------------------------------------------------------------------------\u001b[0m",
      "\u001b[1;31mTypeError\u001b[0m                                 Traceback (most recent call last)",
      "\u001b[1;32m~\\AppData\\Local\\Temp\\ipykernel_22044\\1191315604.py\u001b[0m in \u001b[0;36m<module>\u001b[1;34m\u001b[0m\n\u001b[1;32m----> 1\u001b[1;33m \u001b[0mstr1\u001b[0m \u001b[1;33m=\u001b[0m \u001b[0mstr\u001b[0m \u001b[1;33m+\u001b[0m \u001b[1;34m\"suyash\"\u001b[0m \u001b[1;33m+\u001b[0m \u001b[1;36m23\u001b[0m\u001b[1;33m\u001b[0m\u001b[1;33m\u001b[0m\u001b[0m\n\u001b[0m",
      "\u001b[1;31mTypeError\u001b[0m: can only concatenate str (not \"int\") to str"
     ]
    }
   ],
   "source": [
    "str1 = str + \"suyash\" + 23"
   ]
  },
  {
   "cell_type": "code",
   "execution_count": 26,
   "id": "cf8fc17b",
   "metadata": {},
   "outputs": [],
   "source": [
    "str1= str + \"suyash\" + \"23\""
   ]
  },
  {
   "cell_type": "markdown",
   "id": "f316e3ba",
   "metadata": {},
   "source": [
    "# str.lower()"
   ]
  },
  {
   "cell_type": "code",
   "execution_count": 30,
   "id": "e5d644f1",
   "metadata": {},
   "outputs": [],
   "source": [
    "str1= str + \" suyash\""
   ]
  },
  {
   "cell_type": "code",
   "execution_count": 31,
   "id": "c70004d5",
   "metadata": {},
   "outputs": [
    {
     "data": {
      "text/plain": [
       "'hello, i am studying in innogeeks class suyash'"
      ]
     },
     "execution_count": 31,
     "metadata": {},
     "output_type": "execute_result"
    }
   ],
   "source": [
    "str1"
   ]
  },
  {
   "cell_type": "code",
   "execution_count": 32,
   "id": "0282769a",
   "metadata": {},
   "outputs": [],
   "source": [
    "list = ['a','b','c']"
   ]
  },
  {
   "cell_type": "code",
   "execution_count": 33,
   "id": "655045d3",
   "metadata": {},
   "outputs": [
    {
     "data": {
      "text/plain": [
       "['a', 'b', 'c']"
      ]
     },
     "execution_count": 33,
     "metadata": {},
     "output_type": "execute_result"
    }
   ],
   "source": [
    "list"
   ]
  },
  {
   "cell_type": "markdown",
   "id": "0388e6cb",
   "metadata": {},
   "source": [
    "# functions"
   ]
  },
  {
   "cell_type": "code",
   "execution_count": 34,
   "id": "9589c9ad",
   "metadata": {},
   "outputs": [],
   "source": [
    "def inno():\n",
    "    print(\"hello\")"
   ]
  },
  {
   "cell_type": "code",
   "execution_count": 35,
   "id": "3a3a4141",
   "metadata": {},
   "outputs": [
    {
     "name": "stdout",
     "output_type": "stream",
     "text": [
      "hello\n"
     ]
    }
   ],
   "source": [
    "inno()"
   ]
  },
  {
   "cell_type": "code",
   "execution_count": 40,
   "id": "fa96d060",
   "metadata": {},
   "outputs": [],
   "source": [
    "def inno(size):\n",
    "    print(\"hello\"+size)"
   ]
  },
  {
   "cell_type": "code",
   "execution_count": 41,
   "id": "7b07a35e",
   "metadata": {},
   "outputs": [
    {
     "name": "stdout",
     "output_type": "stream",
     "text": [
      "hello20\n"
     ]
    }
   ],
   "source": [
    "inno(\"20\")"
   ]
  },
  {
   "cell_type": "code",
   "execution_count": 42,
   "id": "fd0b3a83",
   "metadata": {},
   "outputs": [
    {
     "name": "stdout",
     "output_type": "stream",
     "text": [
      "hello 20\n"
     ]
    }
   ],
   "source": [
    "inno(\" 20\")"
   ]
  },
  {
   "cell_type": "code",
   "execution_count": 3,
   "id": "1b308f00",
   "metadata": {},
   "outputs": [],
   "source": [
    "def inno(*size):\n",
    "    print(\"hello\"+size[1]+size[2])\n",
    "#tuple reciseve krega"
   ]
  },
  {
   "cell_type": "code",
   "execution_count": 4,
   "id": "e7025bc4",
   "metadata": {},
   "outputs": [
    {
     "name": "stdout",
     "output_type": "stream",
     "text": [
      "hello23\n"
     ]
    }
   ],
   "source": [
    "inno(\"4\",\"2\",\"3\")"
   ]
  },
  {
   "cell_type": "code",
   "execution_count": null,
   "id": "217c3b5b",
   "metadata": {},
   "outputs": [],
   "source": []
  },
  {
   "cell_type": "code",
   "execution_count": null,
   "id": "3532ecef",
   "metadata": {},
   "outputs": [],
   "source": []
  },
  {
   "cell_type": "code",
   "execution_count": null,
   "id": "bcdd642d",
   "metadata": {},
   "outputs": [],
   "source": []
  }
 ],
 "metadata": {
  "kernelspec": {
   "display_name": "Python 3 (ipykernel)",
   "language": "python",
   "name": "python3"
  },
  "language_info": {
   "codemirror_mode": {
    "name": "ipython",
    "version": 3
   },
   "file_extension": ".py",
   "mimetype": "text/x-python",
   "name": "python",
   "nbconvert_exporter": "python",
   "pygments_lexer": "ipython3",
   "version": "3.9.13"
  }
 },
 "nbformat": 4,
 "nbformat_minor": 5
}
