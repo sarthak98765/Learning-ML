{
 "cells": [
  {
   "cell_type": "code",
   "execution_count": 2,
   "id": "0b7920c0",
   "metadata": {},
   "outputs": [],
   "source": [
    "import pandas as pd\n"
   ]
  },
  {
   "cell_type": "code",
   "execution_count": 3,
   "id": "95d08c7a",
   "metadata": {},
   "outputs": [
    {
     "data": {
      "text/html": [
       "<div>\n",
       "<style scoped>\n",
       "    .dataframe tbody tr th:only-of-type {\n",
       "        vertical-align: middle;\n",
       "    }\n",
       "\n",
       "    .dataframe tbody tr th {\n",
       "        vertical-align: top;\n",
       "    }\n",
       "\n",
       "    .dataframe thead th {\n",
       "        text-align: right;\n",
       "    }\n",
       "</style>\n",
       "<table border=\"1\" class=\"dataframe\">\n",
       "  <thead>\n",
       "    <tr style=\"text-align: right;\">\n",
       "      <th></th>\n",
       "      <th>Day</th>\n",
       "      <th>Max Temperature</th>\n",
       "      <th>Min Temperature</th>\n",
       "      <th>Windspeed</th>\n",
       "      <th>Event</th>\n",
       "    </tr>\n",
       "  </thead>\n",
       "  <tbody>\n",
       "    <tr>\n",
       "      <th>1</th>\n",
       "      <td>monday</td>\n",
       "      <td>18</td>\n",
       "      <td>10</td>\n",
       "      <td>10</td>\n",
       "      <td>rain</td>\n",
       "    </tr>\n",
       "    <tr>\n",
       "      <th>2</th>\n",
       "      <td>tuesday</td>\n",
       "      <td>19</td>\n",
       "      <td>13</td>\n",
       "      <td>14</td>\n",
       "      <td>thunderstorm</td>\n",
       "    </tr>\n",
       "    <tr>\n",
       "      <th>3</th>\n",
       "      <td>wednesday</td>\n",
       "      <td>20</td>\n",
       "      <td>12</td>\n",
       "      <td>8</td>\n",
       "      <td>rain</td>\n",
       "    </tr>\n",
       "    <tr>\n",
       "      <th>4</th>\n",
       "      <td>thursday</td>\n",
       "      <td>21</td>\n",
       "      <td>8</td>\n",
       "      <td>14</td>\n",
       "      <td>sunny</td>\n",
       "    </tr>\n",
       "    <tr>\n",
       "      <th>5</th>\n",
       "      <td>friday</td>\n",
       "      <td>16</td>\n",
       "      <td>7</td>\n",
       "      <td>18</td>\n",
       "      <td>fog</td>\n",
       "    </tr>\n",
       "    <tr>\n",
       "      <th>6</th>\n",
       "      <td>saturday</td>\n",
       "      <td>21</td>\n",
       "      <td>11</td>\n",
       "      <td>11</td>\n",
       "      <td>fog</td>\n",
       "    </tr>\n",
       "    <tr>\n",
       "      <th>7</th>\n",
       "      <td>sunday</td>\n",
       "      <td>20</td>\n",
       "      <td>12</td>\n",
       "      <td>14</td>\n",
       "      <td>rain</td>\n",
       "    </tr>\n",
       "  </tbody>\n",
       "</table>\n",
       "</div>"
      ],
      "text/plain": [
       "         Day  Max Temperature  Min Temperature  Windspeed         Event\n",
       "1     monday               18               10         10          rain\n",
       "2    tuesday               19               13         14  thunderstorm\n",
       "3  wednesday               20               12          8          rain\n",
       "4   thursday               21                8         14         sunny\n",
       "5     friday               16                7         18           fog\n",
       "6   saturday               21               11         11           fog\n",
       "7     sunday               20               12         14          rain"
      ]
     },
     "execution_count": 3,
     "metadata": {},
     "output_type": "execute_result"
    }
   ],
   "source": [
    "days=['monday','tuesday','wednesday','thursday','friday','saturday','sunday']\n",
    "max_temp=[18,19,20,21,16,21,20]\n",
    "min_temp=[10,13,12,8,7,11,12]\n",
    "windspeed=[10,14,8,14,18,11,14]\n",
    "event=['rain','thunderstorm','rain','sunny','fog','fog','rain']\n",
    "\n",
    "weather={'Day':days,'Max Temperature':max_temp,'Min Temperature':min_temp,'Windspeed':windspeed,'Event':event}\n",
    "df=pd.DataFrame(weather,index=range(1,8))\n",
    "df"
   ]
  },
  {
   "cell_type": "code",
   "execution_count": 4,
   "id": "95b866dd",
   "metadata": {},
   "outputs": [
    {
     "name": "stdout",
     "output_type": "stream",
     "text": [
      "       Max Temperature  Min Temperature  Windspeed\n",
      "count         7.000000         7.000000   7.000000\n",
      "mean         19.285714        10.428571  12.714286\n",
      "std           1.799471         2.225395   3.302236\n",
      "min          16.000000         7.000000   8.000000\n",
      "25%          18.500000         9.000000  10.500000\n",
      "50%          20.000000        11.000000  14.000000\n",
      "75%          20.500000        12.000000  14.000000\n",
      "max          21.000000        13.000000  18.000000\n"
     ]
    }
   ],
   "source": [
    "print(df.describe())"
   ]
  },
  {
   "cell_type": "code",
   "execution_count": 5,
   "id": "20adb6a3",
   "metadata": {},
   "outputs": [],
   "source": [
    "max_temp=df[\"Max Temperature\"]\n",
    "min_temp=df[\"Min Temperature\"]\n",
    "windspeed=df[\"Windspeed\"]"
   ]
  },
  {
   "cell_type": "code",
   "execution_count": 6,
   "id": "ecfe5b0f",
   "metadata": {},
   "outputs": [],
   "source": [
    "def des(l):\n",
    "    s=sum(l)\n",
    "    c=len(l)\n",
    "    print(\"Count:\",c)\n",
    "    print(\"Mean:\",s/c)\n",
    "    print(\"Min:\", min(l))\n",
    "    print(\"Max:\", max(l),\"\\n\")"
   ]
  },
  {
   "cell_type": "code",
   "execution_count": 7,
   "id": "3e8764e1",
   "metadata": {},
   "outputs": [
    {
     "name": "stdout",
     "output_type": "stream",
     "text": [
      "Max Temperature:-\n",
      "Count: 7\n",
      "Mean: 19.285714285714285\n",
      "Min: 16\n",
      "Max: 21 \n",
      "\n",
      "Min Temperature:-\n",
      "Count: 7\n",
      "Mean: 10.428571428571429\n",
      "Min: 7\n",
      "Max: 13 \n",
      "\n",
      "Windspeed:-\n",
      "Count: 7\n",
      "Mean: 12.714285714285714\n",
      "Min: 8\n",
      "Max: 18 \n",
      "\n"
     ]
    }
   ],
   "source": [
    "print(\"Max Temperature:-\")\n",
    "des(df[\"Max Temperature\"])\n",
    "print(\"Min Temperature:-\")\n",
    "des(df[\"Min Temperature\"])\n",
    "print(\"Windspeed:-\")\n",
    "des(df[\"Windspeed\"])\n"
   ]
  },
  {
   "cell_type": "code",
   "execution_count": null,
   "id": "8e9cd237",
   "metadata": {},
   "outputs": [],
   "source": []
  }
 ],
 "metadata": {
  "kernelspec": {
   "display_name": "Python 3 (ipykernel)",
   "language": "python",
   "name": "python3"
  },
  "language_info": {
   "codemirror_mode": {
    "name": "ipython",
    "version": 3
   },
   "file_extension": ".py",
   "mimetype": "text/x-python",
   "name": "python",
   "nbconvert_exporter": "python",
   "pygments_lexer": "ipython3",
   "version": "3.9.13"
  }
 },
 "nbformat": 4,
 "nbformat_minor": 5
}
